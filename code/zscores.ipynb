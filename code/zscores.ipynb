{
 "cells": [
  {
   "cell_type": "markdown",
   "metadata": {},
   "source": [
    "Код, который составляет при помощи втроенного модуля получить таблицу из z-scores."
   ]
  },
  {
   "cell_type": "code",
   "execution_count": 6,
   "metadata": {},
   "outputs": [],
   "source": [
    "from delta import Corpus\n",
    "\n",
    "for folder in [\"shakespeare\", \"faust\", \"shakespeare_POS\", \"faust_POS\"]:\n",
    "    corp = Corpus(f\"../corpora/{folder}\")\n",
    "    z_scs = corp.z_scores().T\n",
    "    z_scs.to_csv(f\"../zscores/{folder}.csv\")"
   ]
  }
 ],
 "metadata": {
  "kernelspec": {
   "display_name": "Python 3",
   "language": "python",
   "name": "python3"
  },
  "language_info": {
   "codemirror_mode": {
    "name": "ipython",
    "version": 3
   },
   "file_extension": ".py",
   "mimetype": "text/x-python",
   "name": "python",
   "nbconvert_exporter": "python",
   "pygments_lexer": "ipython3",
   "version": "3.7.6"
  }
 },
 "nbformat": 4,
 "nbformat_minor": 4
}
