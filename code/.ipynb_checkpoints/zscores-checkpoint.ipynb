{
 "cells": [
  {
   "cell_type": "code",
   "execution_count": 3,
   "metadata": {},
   "outputs": [
    {
     "name": "stderr",
     "output_type": "stream",
     "text": [
      "No files matching *.txt in ../corpora/shakespeare. Feature matrix will be empty.\n",
      "No files matching *.txt in ../corpora/faust. Feature matrix will be empty.\n",
      "No files matching *.txt in ../corpora/faust_POS. Feature matrix will be empty.\n"
     ]
    }
   ],
   "source": [
    "from delta import Corpus\n",
    "\n",
    "shakespeare = \"shakespeare\"\n",
    "faust = \"faust\"\n",
    "shakespeare_POS = \"shakespeare_POS\"\n",
    "faust_POS = \"faust_POS\"\n",
    "\n",
    "for folder in [shakespeare_POS]:\n",
    "    corp = Corpus(f\"../corpora/{folder}\")\n",
    "    z_scs = corp.z_scores().T\n",
    "    z_scs.to_csv(f\"../zscores/{folder}.csv\")"
   ]
  },
  {
   "cell_type": "code",
   "execution_count": null,
   "metadata": {},
   "outputs": [],
   "source": []
  }
 ],
 "metadata": {
  "kernelspec": {
   "display_name": "Python 3",
   "language": "python",
   "name": "python3"
  },
  "language_info": {
   "codemirror_mode": {
    "name": "ipython",
    "version": 3
   },
   "file_extension": ".py",
   "mimetype": "text/x-python",
   "name": "python",
   "nbconvert_exporter": "python",
   "pygments_lexer": "ipython3",
   "version": "3.7.6"
  }
 },
 "nbformat": 4,
 "nbformat_minor": 4
}
